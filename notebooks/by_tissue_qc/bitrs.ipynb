{
 "cells": [
  {
   "cell_type": "code",
   "execution_count": 1,
   "id": "0c800ce7-5d9b-4856-8183-db003579e0a5",
   "metadata": {},
   "outputs": [],
   "source": [
    "import pandas as pd"
   ]
  },
  {
   "cell_type": "code",
   "execution_count": 2,
   "id": "bc370595-3aac-40a2-8c92-c76879e300fb",
   "metadata": {},
   "outputs": [],
   "source": [
    "import glob"
   ]
  },
  {
   "cell_type": "code",
   "execution_count": 6,
   "id": "0ce8d971-a153-49be-9833-1b794bcab2d0",
   "metadata": {},
   "outputs": [],
   "source": [
    "dfs = []\n",
    "for i in glob.glob('*obs.tab'):\n",
    "    dfs.append(pd.read_table(i, index_col=0))"
   ]
  },
  {
   "cell_type": "code",
   "execution_count": 8,
   "id": "dd730abd-890a-4b23-857b-2831c9026bf8",
   "metadata": {},
   "outputs": [],
   "source": [
    "df = pd.concat(dfs)"
   ]
  },
  {
   "cell_type": "code",
   "execution_count": 10,
   "id": "424ad63d-9b64-4418-8cdd-473ef964040d",
   "metadata": {},
   "outputs": [],
   "source": [
    "df.to_csv(\"TBD_obs.tab\", sep = '\\t')"
   ]
  },
  {
   "cell_type": "code",
   "execution_count": null,
   "id": "9e15213d-cc49-4b58-b67a-9261c16fc2ce",
   "metadata": {},
   "outputs": [],
   "source": [
    "# janky cycling annotation\n",
    "adata.obs['MKI67+'] = adata.obs.index.isin(df[df['MKI67'] > 0].index)\n",
    "adata.obs['MKI67+'] = adata.obs['MKI67+'].astype(str)\n",
    "\n",
    "\n",
    "# Annotation of LLPC\n",
    "\n",
    "llpc = sc.get.obs_df(adata, keys=['CD19', 'CD38', 'CD27', 'SDC1', \"MS4A1\"], use_raw=True)\n",
    "\n",
    "llpc_cbs = llpc[(llpc[\"CD19\"] == 0) & (llpc[\"CD38\"] > 1) & (llpc[\"CD27\"] > 1)  & (llpc[\"SDC1\"] > 0)].index\n",
    "adata.obs['llpc'] = adata.obs.index.isin(llpc_cbs).astype(str)\n",
    "\n",
    "adata.obs['llpc'].value_counts()"
   ]
  },
  {
   "cell_type": "code",
   "execution_count": 1,
   "id": "35273ba6-7fee-4530-9680-8a71d7993332",
   "metadata": {},
   "outputs": [
    {
     "ename": "NameError",
     "evalue": "name 'adata' is not defined",
     "output_type": "error",
     "traceback": [
      "\u001b[0;31m------------------------------------------------------------------\u001b[0m",
      "\u001b[0;31mNameError\u001b[0m                        Traceback (most recent call last)",
      "Cell \u001b[0;32mIn[1], line 1\u001b[0m\n\u001b[0;32m----> 1\u001b[0m df \u001b[38;5;241m=\u001b[39m \u001b[43madata\u001b[49m\u001b[38;5;241m.\u001b[39mobs[[\u001b[38;5;124m'\u001b[39m\u001b[38;5;124msample_uid\u001b[39m\u001b[38;5;124m'\u001b[39m, \u001b[38;5;124m'\u001b[39m\u001b[38;5;124mmajority_voting\u001b[39m\u001b[38;5;124m'\u001b[39m, \u001b[38;5;124m'\u001b[39m\u001b[38;5;124mn_genes\u001b[39m\u001b[38;5;124m'\u001b[39m, \u001b[38;5;124m'\u001b[39m\u001b[38;5;124mtotal_counts\u001b[39m\u001b[38;5;124m'\u001b[39m, \u001b[38;5;124m'\u001b[39m\u001b[38;5;124mtotal_counts_mt\u001b[39m\u001b[38;5;124m'\u001b[39m ]]\n\u001b[1;32m      3\u001b[0m df\u001b[38;5;241m.\u001b[39mto_csv(\u001b[38;5;124m'\u001b[39m\u001b[38;5;124m/home/michaelswift/repos/tabula-bursa/analysis/notebooks/bcells_vdj_integration.tab\u001b[39m\u001b[38;5;124m'\u001b[39m, sep\u001b[38;5;241m=\u001b[39m\u001b[38;5;124m'\u001b[39m\u001b[38;5;130;01m\\t\u001b[39;00m\u001b[38;5;124m'\u001b[39m)\n",
      "\u001b[0;31mNameError\u001b[0m: name 'adata' is not defined"
     ]
    }
   ],
   "source": [
    "df = adata.obs[['sample_uid', 'majority_voting', 'n_genes', 'total_counts', 'total_counts_mt' ]]\n",
    "\n",
    "df.to_csv('/home/michaelswift/repos/tabula-bursa/analysis/notebooks/bcells_vdj_integration.tab', sep='\\t')"
   ]
  },
  {
   "cell_type": "code",
   "execution_count": null,
   "id": "21e619ee-299e-4b54-9a3d-2bd99c33737b",
   "metadata": {},
   "outputs": [],
   "source": []
  }
 ],
 "metadata": {
  "kernelspec": {
   "display_name": "Python 3",
   "language": "python",
   "name": "python3"
  },
  "language_info": {
   "codemirror_mode": {
    "name": "ipython",
    "version": 3
   },
   "file_extension": ".py",
   "mimetype": "text/x-python",
   "name": "python",
   "nbconvert_exporter": "python",
   "pygments_lexer": "ipython3",
   "version": "3.9.15"
  }
 },
 "nbformat": 4,
 "nbformat_minor": 5
}
